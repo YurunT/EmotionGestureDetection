{
 "cells": [
  {
   "cell_type": "markdown",
   "metadata": {},
   "source": [
    "# This script obtains augmented data out of cmu skeletons from different cameras\n",
    "Input: ../170407_office2/samples_for_persons.json\n",
    "Output: /170407_office2/hd_00_samples_for_persons.json\n",
    "        /170407_office2/hd_01_samples_for_persons.json\n",
    "        ...\n",
    "        /170407_office2/hd_30_samples_for_persons.json\n",
    "p.s. The structure of hd_00_samples_for_persons.json is still the same as that of samples_for_persons.json, but the x1,y1,z1 changed to the calibrated version with respect to each camera"
   ]
  },
  {
   "cell_type": "code",
   "execution_count": 1,
   "metadata": {},
   "outputs": [],
   "source": [
    "import numpy as np\n",
    "import json\n",
    "import panutils\n",
    "from IPython.core.debugger import set_trace\n",
    "import pandas as pd\n",
    "from collections import OrderedDict"
   ]
  },
  {
   "cell_type": "code",
   "execution_count": 2,
   "metadata": {},
   "outputs": [],
   "source": [
    "# Setup paths\n",
    "data_path = '../'\n",
    "# seq_name = '170915_office1'#5376\n",
    "seq_name = '170407_office2' #3649+1211=4254"
   ]
  },
  {
   "cell_type": "code",
   "execution_count": 3,
   "metadata": {},
   "outputs": [],
   "source": [
    "# Load camera calibration parameters\n",
    "with open(data_path+seq_name+'/calibration_{0}.json'.format(seq_name)) as cfile:\n",
    "    calib = json.load(cfile)\n",
    "# Cameras are identified by a tuple of (panel#,node#)\n",
    "# Select an HD camera (0,0) - (0,30), where the zero in the first index means HD camera \n",
    "cameras = {(cam['panel'],cam['node']):cam for cam in calib['cameras'] if cam['panel']==0}"
   ]
  },
  {
   "cell_type": "code",
   "execution_count": 4,
   "metadata": {},
   "outputs": [
    {
     "name": "stdout",
     "output_type": "stream",
     "text": [
      "--Return--\n",
      "None\n",
      "> \u001b[0;32m<ipython-input-4-3d366360f568>\u001b[0m(5)\u001b[0;36m<module>\u001b[0;34m()\u001b[0m\n",
      "\u001b[0;32m      3 \u001b[0;31m    \u001b[0;32mwith\u001b[0m \u001b[0mopen\u001b[0m \u001b[0;34m(\u001b[0m\u001b[0mdata_path\u001b[0m\u001b[0;34m+\u001b[0m\u001b[0mseq_name\u001b[0m\u001b[0;34m+\u001b[0m\u001b[0;34m\"/samples_for_persons.json\"\u001b[0m\u001b[0;34m)\u001b[0m \u001b[0;32mas\u001b[0m \u001b[0mskeleton_file\u001b[0m\u001b[0;34m:\u001b[0m\u001b[0;34m\u001b[0m\u001b[0;34m\u001b[0m\u001b[0m\n",
      "\u001b[0m\u001b[0;32m      4 \u001b[0;31m        \u001b[0mskeleton\u001b[0m\u001b[0;34m=\u001b[0m\u001b[0mjson\u001b[0m\u001b[0;34m.\u001b[0m\u001b[0mload\u001b[0m\u001b[0;34m(\u001b[0m\u001b[0mskeleton_file\u001b[0m\u001b[0;34m)\u001b[0m\u001b[0;34m\u001b[0m\u001b[0;34m\u001b[0m\u001b[0m\n",
      "\u001b[0m\u001b[0;32m----> 5 \u001b[0;31m    \u001b[0mset_trace\u001b[0m\u001b[0;34m(\u001b[0m\u001b[0;34m)\u001b[0m\u001b[0;34m\u001b[0m\u001b[0;34m\u001b[0m\u001b[0m\n",
      "\u001b[0m\u001b[0;32m      6 \u001b[0;31m\u001b[0;32mexcept\u001b[0m \u001b[0mIOError\u001b[0m \u001b[0;32mas\u001b[0m \u001b[0me\u001b[0m\u001b[0;34m:\u001b[0m\u001b[0;34m\u001b[0m\u001b[0;34m\u001b[0m\u001b[0m\n",
      "\u001b[0m\u001b[0;32m      7 \u001b[0;31m    \u001b[0mprint\u001b[0m\u001b[0;34m(\u001b[0m\u001b[0;34m'Error reading {0}\\n'\u001b[0m\u001b[0;34m.\u001b[0m\u001b[0mformat\u001b[0m\u001b[0;34m(\u001b[0m\u001b[0mdata_path\u001b[0m\u001b[0;34m+\u001b[0m\u001b[0mseq_name\u001b[0m\u001b[0;34m+\u001b[0m\u001b[0;34m\"/samples_for_persons.json\"\u001b[0m\u001b[0;34m)\u001b[0m\u001b[0;34m+\u001b[0m\u001b[0me\u001b[0m\u001b[0;34m.\u001b[0m\u001b[0mstrerror\u001b[0m\u001b[0;34m)\u001b[0m\u001b[0;34m\u001b[0m\u001b[0;34m\u001b[0m\u001b[0m\n",
      "\u001b[0m\n",
      "ipdb> c\n"
     ]
    }
   ],
   "source": [
    "# Read the skeleton data from ../170407_office2/samples_for_persons.json\n",
    "try:\n",
    "    with open (data_path+seq_name+\"/samples_for_persons.json\") as skeleton_file:\n",
    "        skeleton=json.load(skeleton_file)\n",
    "    set_trace()\n",
    "except IOError as e:\n",
    "    print('Error reading {0}\\n'.format(data_path+seq_name+\"/samples_for_persons.json\")+e.strerror)  "
   ]
  },
  {
   "cell_type": "code",
   "execution_count": 5,
   "metadata": {},
   "outputs": [],
   "source": [
    "# create the samples_for_persons of each camera\n",
    "# the output is: /170407_office2/hd_00_samples_for_persons.json\n",
    "for k,cam in cameras.items():\n",
    "    # Convert data into numpy arrays for convenience\n",
    "    cam['K'] = np.matrix(cam['K'])\n",
    "    cam['distCoef'] = np.array(cam['distCoef'])\n",
    "    cam['R'] = np.matrix(cam['R'])\n",
    "    cam['t'] = np.array(cam['t']).reshape((3,1))\n",
    "    new_skeleton=dict()\n",
    "    for person, frames in skeleton.items():\n",
    "        # There are 19 3D joints for each frame, stored as an array [x1,y1,z1,c1,x2,y2,z2,c2,...]\n",
    "        # frames is the stack of [x1,y1,z1,c1,x2,y2,z2,c2,...] over all the frames,\n",
    "        # frames have the shape: (# of frames)*76 \n",
    "        # where c1 ... c19 are per-joint detection confidences\n",
    "#         new_frames=list()\n",
    "        new_frames=OrderedDict()\n",
    "        sorted_frame_keys=sorted([int(k) for k in frames.keys()])\n",
    "        for frmidx in sorted_frame_keys: \n",
    "#             print(frmidx)\n",
    "            frame=np.array(frames[str(frmidx)])#frame.shape: 1*76\n",
    "            skel = frame.reshape(-1,4).transpose()# skel shape: 4*19\n",
    "\n",
    "            # Project skeleton into view (this is like cv2.projectPoints)\n",
    "            pt = panutils.projectPoints(skel[0:3,:],\n",
    "                          cam['K'], cam['R'], cam['t'], \n",
    "                          cam['distCoef'])\n",
    "            skel[0:3]=pt\n",
    "            skel=list(skel.transpose().reshape(-1))\n",
    "#             new_frames.append(skel)\n",
    "            new_frames[frmidx]=skel\n",
    "        # after the loop, the new_frames will be in the same shape as frames\n",
    "        new_skeleton[person]=new_frames\n",
    "#     set_trace()\n",
    "    #after building the new skeleton, write the json file with respect to the camemra\n",
    "    with open(data_path+seq_name+\"/camerawise_skeleton\"+\"/hd_\"+str(k[0])+'_'+str(k[1])+\"_samples_for_persons.json\",\"w+\") as f:\n",
    "        json.dump(new_skeleton,f)\n",
    "    \n",
    "        \n",
    "            \n",
    "           \n",
    "            "
   ]
  }
 ],
 "metadata": {
  "kernelspec": {
   "display_name": "Python 3",
   "language": "python",
   "name": "python3"
  },
  "language_info": {
   "codemirror_mode": {
    "name": "ipython",
    "version": 3
   },
   "file_extension": ".py",
   "mimetype": "text/x-python",
   "name": "python",
   "nbconvert_exporter": "python",
   "pygments_lexer": "ipython3",
   "version": "3.6.9"
  }
 },
 "nbformat": 4,
 "nbformat_minor": 2
}
