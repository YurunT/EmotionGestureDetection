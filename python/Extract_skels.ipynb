{
 "cells": [
  {
   "cell_type": "markdown",
   "metadata": {},
   "source": [
    "# This script helps to extract skeletons of each frame\n",
    "Input: office1(or 2)\\hdPose3d_stage1_coco19\\*.json(00000000-00005456.json)\n",
    "Output: office1(or 2)\\samples_for_persons.json\n",
    "\n",
    "A python dict data structure :\"samples\" is stored in samples_for_persons.json\n",
    "\n",
    "samples structure:\n",
    "#if there is n people in the sequence\n",
    "    samples={\n",
    "        \"0\":frames_0,\n",
    "        \"1\":frames_1,\n",
    "        ...\n",
    "        \"n\":frames_1,\n",
    "    }\n",
    "where frames_i is a list for the ith person, [[],[],[],[],...,[]]\n",
    "len(frames_i)=num of frames in the sequence\n",
    "len(frames_i[0])=76(4 paras/joint * 19 joins/person)"
   ]
  },
  {
   "cell_type": "code",
   "execution_count": 1,
   "metadata": {},
   "outputs": [],
   "source": [
    "import os\n",
    "import json\n",
    "import numpy as np\n",
    "from IPython.core.debugger import set_trace"
   ]
  },
  {
   "cell_type": "code",
   "execution_count": 2,
   "metadata": {},
   "outputs": [],
   "source": [
    "# Setup paths\n",
    "data_path = '../'\n",
    "# seq_name = '170915_office1'\n",
    "seq_name = '170407_office2'\n",
    "hd_skel_json_path = data_path+seq_name+'/hdPose3d_stage1_coco19/'"
   ]
  },
  {
   "cell_type": "code",
   "execution_count": 3,
   "metadata": {},
   "outputs": [],
   "source": [
    "# load all the json files in the coco19 dir\n",
    "\n",
    "json_files = [pos_json for pos_json in os.listdir(hd_skel_json_path) if pos_json.endswith('.json')]\n",
    "\n",
    "\n",
    " \n",
    "samples=dict()\n",
    "\n",
    "# Cycle through all the frames within this sequence\n",
    "for index, js in enumerate(json_files):\n",
    "    try:\n",
    "        # Load the json file with this frame's skeletons\n",
    "        with open(os.path.join(hd_skel_json_path, js)) as json_file:\n",
    "            bframe = json.load(json_file)\n",
    "        \n",
    "        # Cycle through all detected bodies\n",
    "        for body in bframe['bodies']:\n",
    "            # There are 19 3D joints, stored as an array [x1,y1,z1,c1,x2,y2,z2,c2,...]\n",
    "            # where c1 ... c19 are per-joint detection confidences\n",
    "            body_id=body['id']\n",
    "            \n",
    "            #questions left: how to split different people\n",
    "            #skel = np.array(body['joints19']).transpose()\n",
    "            skel = body['joints19']\n",
    "            #set_trace()# to see the shape of the skeleton\n",
    "            # to see if this person is already recorded in samples\n",
    "            # if not, initialize the ndarray as list()\n",
    "            if body_id not in samples.keys():\n",
    "                samples[body_id]=list()# initialize frame_i\n",
    "                samples[body_id].append(skel)\n",
    "            else:\n",
    "                samples[body_id].append(skel)            \n",
    "    except IOError as e:\n",
    "        print('Error reading {0}\\n'.format(skel_json_fname)+e.strerror) \n",
    "\n"
   ]
  },
  {
   "cell_type": "code",
   "execution_count": 4,
   "metadata": {
    "scrolled": true
   },
   "outputs": [],
   "source": [
    "# write the samples into the json file, as the output of openpose skeletons without calibration of different cameras\\\n",
    "with open(data_path+seq_name+\"/samples_for_persons.json\",\"w+\") as f:\n",
    "    json.dump(samples,f)"
   ]
  }
 ],
 "metadata": {
  "kernelspec": {
   "display_name": "Python 3",
   "language": "python",
   "name": "python3"
  },
  "language_info": {
   "codemirror_mode": {
    "name": "ipython",
    "version": 3
   },
   "file_extension": ".py",
   "mimetype": "text/x-python",
   "name": "python",
   "nbconvert_exporter": "python",
   "pygments_lexer": "ipython3",
   "version": "3.7.3"
  }
 },
 "nbformat": 4,
 "nbformat_minor": 2
}
